{
 "cells": [
  {
   "cell_type": "markdown",
   "metadata": {},
   "source": [
    "### To find whether today is the birthday of a person and the age"
   ]
  },
  {
   "cell_type": "code",
   "execution_count": 1,
   "metadata": {},
   "outputs": [],
   "source": [
    "import datetime"
   ]
  },
  {
   "cell_type": "code",
   "execution_count": 14,
   "metadata": {},
   "outputs": [
    {
     "name": "stdout",
     "output_type": "stream",
     "text": [
      "Enter birthday in yyyy-mm-dd format:1979-07-19\n",
      "Name of birthdayGunjan Aren\n",
      "Its Gunjan Arens 42nd Birthday\n"
     ]
    }
   ],
   "source": [
    "current_date=datetime.date.today().strftime('%Y-%m-%d')\n",
    "#print(current_date)\n",
    "current_date_1st=current_date.split('-')\n",
    "b_date=input('Enter birthday in yyyy-mm-dd format:')\n",
    "name=input('Name of the person')\n",
    "b_date=b_date.split('-')\n",
    "#print(b_date)\n",
    "#print(b_date[1])\n",
    "if current_date_1st[1]==b_date[1] and current_date_1st[2]==b_date[2]:\n",
    "    age=int(current_date_1st[0])-int(b_date[0])\n",
    "    #print(age)\n",
    "    ordinal_suffix={1:'st',2:'nd',3:'rd',11:'th',12:'th',13:'th'}.get(age %10 if not 10<age<=13 else age % 14,'th')\n",
    "    #print(ordinal_suffix)\n",
    "    print(f'Its {name}s {age}{ordinal_suffix} Birthday')\n",
    "else:\n",
    "    print('Sorry today is not your birthday')"
   ]
  },
  {
   "cell_type": "markdown",
   "metadata": {},
   "source": [
    "#### Screen Shot"
   ]
  },
  {
   "cell_type": "code",
   "execution_count": 1,
   "metadata": {},
   "outputs": [],
   "source": [
    "import pyautogui"
   ]
  },
  {
   "cell_type": "code",
   "execution_count": 2,
   "metadata": {},
   "outputs": [],
   "source": [
    "import tkinter as tk"
   ]
  },
  {
   "cell_type": "code",
   "execution_count": 4,
   "metadata": {},
   "outputs": [],
   "source": [
    "root=tk.Tk()"
   ]
  },
  {
   "cell_type": "code",
   "execution_count": 5,
   "metadata": {},
   "outputs": [],
   "source": [
    "canvas1=tk.Canvas(root,width=300,height=300)"
   ]
  },
  {
   "cell_type": "code",
   "execution_count": 6,
   "metadata": {},
   "outputs": [],
   "source": [
    "canvas1.pack()"
   ]
  },
  {
   "cell_type": "code",
   "execution_count": 10,
   "metadata": {},
   "outputs": [],
   "source": [
    "def takeScreenshot():\n",
    "    myScreenshot= pyautogui.screenshot()\n",
    "    myScreenshot.save('screenshot.png')\n",
    "    print(\"Screenshot has been saved to your current directory\")"
   ]
  },
  {
   "cell_type": "code",
   "execution_count": 8,
   "metadata": {},
   "outputs": [
    {
     "data": {
      "text/plain": [
       "1"
      ]
     },
     "execution_count": 8,
     "metadata": {},
     "output_type": "execute_result"
    }
   ],
   "source": [
    "myButton= tk.Button(text='Take Screenshot',command=takeScreenshot,bg='green',fg='white',font=10)\n",
    "canvas1.create_window(150,150,window=myButton)"
   ]
  },
  {
   "cell_type": "code",
   "execution_count": 9,
   "metadata": {},
   "outputs": [
    {
     "name": "stderr",
     "output_type": "stream",
     "text": [
      "Exception in Tkinter callback\n",
      "Traceback (most recent call last):\n",
      "  File \"C:\\Users\\Malvika\\anaconda3\\lib\\tkinter\\__init__.py\", line 1883, in __call__\n",
      "    return self.func(*args)\n",
      "  File \"<ipython-input-7-ea0bacb3e39e>\", line 4, in takeScreenshot\n",
      "    printf(\"Screenshot has been saved to your current directory\")\n",
      "NameError: name 'printf' is not defined\n",
      "Exception in Tkinter callback\n",
      "Traceback (most recent call last):\n",
      "  File \"C:\\Users\\Malvika\\anaconda3\\lib\\tkinter\\__init__.py\", line 1883, in __call__\n",
      "    return self.func(*args)\n",
      "  File \"<ipython-input-7-ea0bacb3e39e>\", line 4, in takeScreenshot\n",
      "    printf(\"Screenshot has been saved to your current directory\")\n",
      "NameError: name 'printf' is not defined\n"
     ]
    }
   ],
   "source": [
    "root.mainloop()"
   ]
  },
  {
   "cell_type": "code",
   "execution_count": null,
   "metadata": {},
   "outputs": [],
   "source": []
  }
 ],
 "metadata": {
  "kernelspec": {
   "display_name": "Python 3",
   "language": "python",
   "name": "python3"
  },
  "language_info": {
   "codemirror_mode": {
    "name": "ipython",
    "version": 3
   },
   "file_extension": ".py",
   "mimetype": "text/x-python",
   "name": "python",
   "nbconvert_exporter": "python",
   "pygments_lexer": "ipython3",
   "version": "3.8.3"
  }
 },
 "nbformat": 4,
 "nbformat_minor": 4
}
